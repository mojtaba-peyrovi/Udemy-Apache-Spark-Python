{
 "cells": [
  {
   "cell_type": "code",
   "execution_count": 10,
   "metadata": {},
   "outputs": [],
   "source": [
    "from pyspark import SparkConf, SparkContext\n"
   ]
  },
  {
   "cell_type": "code",
   "execution_count": 2,
   "metadata": {},
   "outputs": [],
   "source": [
    "def parseLine(line):\n",
    "    fields = line.split(',')\n",
    "    age = int(fields[2])\n",
    "    numFriends = int(fields[3])\n",
    "    return (age, numFriends)"
   ]
  },
  {
   "cell_type": "code",
   "execution_count": 3,
   "metadata": {},
   "outputs": [],
   "source": [
    "conf = SparkConf().setMaster(\"local\").setAppName(\"fake-friends\")\n",
    "sc = SparkContext(conf = conf)"
   ]
  },
  {
   "cell_type": "code",
   "execution_count": 15,
   "metadata": {},
   "outputs": [],
   "source": [
    "lines = sc.textFile('fakefriends.csv')"
   ]
  },
  {
   "cell_type": "code",
   "execution_count": 16,
   "metadata": {},
   "outputs": [],
   "source": [
    "rdd = lines.map(parseLine)"
   ]
  },
  {
   "cell_type": "code",
   "execution_count": 17,
   "metadata": {},
   "outputs": [],
   "source": [
    "totalsByAge = rdd.mapValues(lambda x:(x,1)).reduceByKey(lambda x,y: (x[0] + y[0], x[1]+ y[1]))"
   ]
  },
  {
   "cell_type": "code",
   "execution_count": 22,
   "metadata": {},
   "outputs": [],
   "source": [
    "averageByAge = totalsByAge.mapValues(lambda x:round(x[0]/x[1],0))"
   ]
  },
  {
   "cell_type": "code",
   "execution_count": 23,
   "metadata": {},
   "outputs": [
    {
     "name": "stdout",
     "output_type": "stream",
     "text": [
      "(33, 325.0)\n",
      "(26, 242.0)\n",
      "(55, 296.0)\n",
      "(40, 251.0)\n",
      "(68, 270.0)\n",
      "(59, 220.0)\n",
      "(37, 249.0)\n",
      "(54, 278.0)\n",
      "(38, 194.0)\n",
      "(27, 228.0)\n",
      "(53, 223.0)\n",
      "(57, 259.0)\n",
      "(56, 307.0)\n",
      "(43, 231.0)\n",
      "(36, 247.0)\n",
      "(22, 206.0)\n",
      "(35, 212.0)\n",
      "(45, 310.0)\n",
      "(60, 203.0)\n",
      "(67, 215.0)\n",
      "(19, 213.0)\n",
      "(30, 236.0)\n",
      "(51, 302.0)\n",
      "(25, 197.0)\n",
      "(21, 351.0)\n",
      "(42, 304.0)\n",
      "(49, 185.0)\n",
      "(48, 281.0)\n",
      "(50, 255.0)\n",
      "(39, 169.0)\n",
      "(32, 208.0)\n",
      "(58, 117.0)\n",
      "(64, 281.0)\n",
      "(31, 267.0)\n",
      "(52, 341.0)\n",
      "(24, 234.0)\n",
      "(20, 165.0)\n",
      "(62, 221.0)\n",
      "(41, 269.0)\n",
      "(44, 282.0)\n",
      "(69, 235.0)\n",
      "(65, 298.0)\n",
      "(61, 256.0)\n",
      "(28, 209.0)\n",
      "(66, 276.0)\n",
      "(46, 224.0)\n",
      "(29, 216.0)\n",
      "(18, 343.0)\n",
      "(47, 233.0)\n",
      "(34, 246.0)\n",
      "(63, 384.0)\n",
      "(23, 246.0)\n"
     ]
    }
   ],
   "source": [
    "results = averageByAge.collect()\n",
    "for result in results:\n",
    "    print(result)"
   ]
  },
  {
   "cell_type": "code",
   "execution_count": null,
   "metadata": {},
   "outputs": [],
   "source": []
  }
 ],
 "metadata": {
  "kernelspec": {
   "display_name": "Python 3",
   "language": "python",
   "name": "python3"
  },
  "language_info": {
   "codemirror_mode": {
    "name": "ipython",
    "version": 3
   },
   "file_extension": ".py",
   "mimetype": "text/x-python",
   "name": "python",
   "nbconvert_exporter": "python",
   "pygments_lexer": "ipython3",
   "version": "3.6.5"
  }
 },
 "nbformat": 4,
 "nbformat_minor": 2
}
